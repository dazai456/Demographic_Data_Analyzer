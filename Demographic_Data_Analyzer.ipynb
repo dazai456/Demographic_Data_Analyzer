{
 "cells": [
  {
   "cell_type": "code",
   "execution_count": 1,
   "id": "2d8b4cbf-6200-40aa-a9e6-9c28a10665ba",
   "metadata": {},
   "outputs": [],
   "source": [
    "import pandas as pd"
   ]
  },
  {
   "cell_type": "code",
   "execution_count": 2,
   "id": "dfe5f6d0-18a0-4f09-9dcd-eaaa08b50249",
   "metadata": {},
   "outputs": [],
   "source": [
    "df = pd.read_csv('adult.data.csv')"
   ]
  },
  {
   "cell_type": "code",
   "execution_count": 3,
   "id": "1b294731-75d5-43fe-9150-85ba4193407b",
   "metadata": {},
   "outputs": [
    {
     "data": {
      "text/plain": [
       "age                int64\n",
       "workclass         object\n",
       "fnlwgt             int64\n",
       "education         object\n",
       "education-num      int64\n",
       "marital-status    object\n",
       "occupation        object\n",
       "relationship      object\n",
       "race              object\n",
       "sex               object\n",
       "capital-gain       int64\n",
       "capital-loss       int64\n",
       "hours-per-week     int64\n",
       "native-country    object\n",
       "salary            object\n",
       "dtype: object"
      ]
     },
     "execution_count": 3,
     "metadata": {},
     "output_type": "execute_result"
    }
   ],
   "source": [
    "df.dtypes"
   ]
  },
  {
   "cell_type": "markdown",
   "id": "e6c98628-a5c9-48ef-ae6a-8cb9cbd7544d",
   "metadata": {},
   "source": [
    "### How many people of each race are represented in this dataset? This should be a Pandas series with race names as the index labels. (race column)"
   ]
  },
  {
   "cell_type": "code",
   "execution_count": 4,
   "id": "1a74287e-a257-4a58-b584-0ef4f4703860",
   "metadata": {},
   "outputs": [
    {
     "data": {
      "text/plain": [
       "race\n",
       "White                 27816\n",
       "Black                  3124\n",
       "Asian-Pac-Islander     1039\n",
       "Amer-Indian-Eskimo      311\n",
       "Other                   271\n",
       "Name: age, dtype: int64"
      ]
     },
     "execution_count": 4,
     "metadata": {},
     "output_type": "execute_result"
    }
   ],
   "source": [
    "# solution 01 || complicated\n",
    "race_data = df.groupby('race')['age'].count().sort_values()\n",
    "grouped_race = pd.Series(data=race_data, index=df['race'].drop_duplicates())\n",
    "grouped_race"
   ]
  },
  {
   "cell_type": "code",
   "execution_count": 5,
   "id": "6d8389e3-199b-4146-8289-20377e7afac8",
   "metadata": {},
   "outputs": [
    {
     "data": {
      "text/plain": [
       "race\n",
       "White                 27816\n",
       "Black                  3124\n",
       "Asian-Pac-Islander     1039\n",
       "Amer-Indian-Eskimo      311\n",
       "Other                   271\n",
       "Name: count, dtype: int64"
      ]
     },
     "execution_count": 5,
     "metadata": {},
     "output_type": "execute_result"
    }
   ],
   "source": [
    "# solution 02 || simplified\n",
    "df['race'].value_counts()"
   ]
  },
  {
   "cell_type": "markdown",
   "id": "51f3690c-ca5b-4ad8-9202-d1e676afe00e",
   "metadata": {},
   "source": [
    "### What is the average age of men?"
   ]
  },
  {
   "cell_type": "code",
   "execution_count": 6,
   "id": "c7480edb-5afe-436b-acc5-c667b50bb705",
   "metadata": {},
   "outputs": [
    {
     "data": {
      "text/plain": [
       "39.4"
      ]
     },
     "execution_count": 6,
     "metadata": {},
     "output_type": "execute_result"
    }
   ],
   "source": [
    "# solution 01\n",
    "round(df.loc[df['sex'] == 'Male']['age'].mean(), 1)"
   ]
  },
  {
   "cell_type": "code",
   "execution_count": 7,
   "id": "545d8b4a-85d5-41f2-9bea-04417b466098",
   "metadata": {},
   "outputs": [
    {
     "data": {
      "text/plain": [
       "39.4"
      ]
     },
     "execution_count": 7,
     "metadata": {},
     "output_type": "execute_result"
    }
   ],
   "source": [
    "# solution 02\n",
    "df[df['sex'] == 'Male']['age'].mean().round(1)"
   ]
  },
  {
   "cell_type": "markdown",
   "id": "99881281-5889-4ddc-bef9-327eb37f3c17",
   "metadata": {},
   "source": [
    "### What is the percentage of people who have a Bachelor's degree?"
   ]
  },
  {
   "cell_type": "code",
   "execution_count": 8,
   "id": "4372ad44-181b-4167-8e25-a05c2a0572e6",
   "metadata": {},
   "outputs": [
    {
     "name": "stdout",
     "output_type": "stream",
     "text": [
      "16.4%\n"
     ]
    }
   ],
   "source": [
    "# solution 01\n",
    "total = df['education'].size\n",
    "bachelors = df[df['education'] == 'Bachelors'].count().iloc[0]\n",
    "print(f'{round((bachelors / total) * 100, 1)}%')"
   ]
  },
  {
   "cell_type": "code",
   "execution_count": 9,
   "id": "3c9eab4b-b345-4cc9-8456-0f034665688e",
   "metadata": {},
   "outputs": [
    {
     "data": {
      "text/plain": [
       "16.4"
      ]
     },
     "execution_count": 9,
     "metadata": {},
     "output_type": "execute_result"
    }
   ],
   "source": [
    "# solution 02\n",
    "round((df['education'] == 'Bachelors').mean() * 100, 1)"
   ]
  },
  {
   "cell_type": "markdown",
   "id": "5e186c68-6fbb-4110-95ea-5ef8ac84bd34",
   "metadata": {},
   "source": [
    "### What percentage of people with advanced education (Bachelors, Masters, or Doctorate) make more than 50K?"
   ]
  },
  {
   "cell_type": "code",
   "execution_count": 10,
   "id": "40da9361-f862-4a95-9f3b-813eeaf5a301",
   "metadata": {},
   "outputs": [
    {
     "name": "stdout",
     "output_type": "stream",
     "text": [
      "10.71%\n"
     ]
    }
   ],
   "source": [
    "# solution 01 || not the right answer\n",
    "edu_list = ['Bachelors' ,'Masters' ,'Doctorate']\n",
    "advanced = df['education'].isin(edu_list)\n",
    "top_salary = df['salary'] == '>50K'\n",
    "\n",
    "per = df[advanced & top_salary].shape[0]\n",
    "print(f'{round((per / total) * 100, 2)}%')"
   ]
  },
  {
   "cell_type": "code",
   "execution_count": 11,
   "id": "4346631f-4040-42e5-a440-0f14e3cfb31e",
   "metadata": {},
   "outputs": [
    {
     "data": {
      "text/plain": [
       "0.10706059396210191"
      ]
     },
     "execution_count": 11,
     "metadata": {},
     "output_type": "execute_result"
    }
   ],
   "source": [
    "# solution 02 || not the right answer\n",
    "df[df['education'].isin(edu_list) & top_salary].value_counts().shape[0] / df.shape[0]"
   ]
  },
  {
   "cell_type": "code",
   "execution_count": 12,
   "id": "4e42b219-eb0c-40d5-93ae-dca6425da2a4",
   "metadata": {},
   "outputs": [],
   "source": [
    "# solution 03 || the right one\n",
    "top_salary = df['salary'] == '>50K'\n",
    "edu_list = ['Bachelors' ,'Masters' ,'Doctorate']\n",
    "\n",
    "# with and without `Bachelors`, `Masters`, or `Doctorate`\n",
    "higher_education = df['education'].isin(edu_list)\n",
    "lower_education = ~df['education'].isin(edu_list)\n",
    "\n",
    "# percentage with salary >50K \n",
    "higher_education_rich = round((df[higher_education & top_salary].shape[0] / df[higher_education].shape[0]) * 100, 1)\n",
    "lower_education_rich = round((df[lower_education & top_salary].shape[0] / df[lower_education].shape[0]) * 100, 1)"
   ]
  },
  {
   "cell_type": "code",
   "execution_count": 13,
   "id": "9c01e82e-338a-4373-9ad4-201430fbfa95",
   "metadata": {},
   "outputs": [
    {
     "data": {
      "text/plain": [
       "46.5"
      ]
     },
     "execution_count": 13,
     "metadata": {},
     "output_type": "execute_result"
    }
   ],
   "source": [
    "higher_education_rich"
   ]
  },
  {
   "cell_type": "markdown",
   "id": "54ed2219-bf19-4018-b097-653167ec3836",
   "metadata": {},
   "source": [
    "### What percentage of people without advanced education make more than 50K?"
   ]
  },
  {
   "cell_type": "code",
   "execution_count": 14,
   "id": "a4a377c0-cfb4-4cd9-b296-edb6e3fa5eac",
   "metadata": {},
   "outputs": [
    {
     "data": {
      "text/plain": [
       "17.4"
      ]
     },
     "execution_count": 14,
     "metadata": {},
     "output_type": "execute_result"
    }
   ],
   "source": [
    "lower_education_rich"
   ]
  },
  {
   "cell_type": "markdown",
   "id": "e6ac6ae3-f8f7-45c4-9bc6-3cfbce489312",
   "metadata": {},
   "source": [
    "### What is the minimum number of hours a person works per week?"
   ]
  },
  {
   "cell_type": "code",
   "execution_count": 15,
   "id": "e5fcd0ce-8b9a-4c25-b880-17f3fdc6861d",
   "metadata": {},
   "outputs": [
    {
     "data": {
      "text/plain": [
       "1"
      ]
     },
     "execution_count": 15,
     "metadata": {},
     "output_type": "execute_result"
    }
   ],
   "source": [
    "df['hours-per-week'].min()"
   ]
  },
  {
   "cell_type": "markdown",
   "id": "de7a00ce-8e59-493b-b966-54e50f5115c2",
   "metadata": {},
   "source": [
    "### What percentage of the people who work the minimum number of hours per week have a salary of more than 50K?"
   ]
  },
  {
   "cell_type": "code",
   "execution_count": 21,
   "id": "0da942c6-e8fa-4088-87a8-a35f33fc2405",
   "metadata": {},
   "outputs": [
    {
     "name": "stdout",
     "output_type": "stream",
     "text": [
      "0.01%\n"
     ]
    }
   ],
   "source": [
    "# solution 01 || wrong answer\n",
    "min_hours = df['hours-per-week'] == df['hours-per-week'].min()\n",
    "min_hours_sal = df[min_hours & top_salary].shape[0]\n",
    "print(f'{round((min_hours_sal / total) * 100, 2)}%')"
   ]
  },
  {
   "cell_type": "code",
   "execution_count": 27,
   "id": "fa2d4711-dd4a-4a5f-8019-dd5f9dcfb773",
   "metadata": {},
   "outputs": [
    {
     "data": {
      "text/plain": [
       "10.0"
      ]
     },
     "execution_count": 27,
     "metadata": {},
     "output_type": "execute_result"
    }
   ],
   "source": [
    "# solution 02 || the right one\n",
    "num_min_workers = df['hours-per-week'] == df['hours-per-week'].min()\n",
    "rich_percentage = (df[num_min_workers & top_salary].shape[0] / df[num_min_workers].shape[0]) * 100\n",
    "rich_percentage"
   ]
  },
  {
   "cell_type": "markdown",
   "id": "272998cf-2303-41e9-9454-83071914ea35",
   "metadata": {},
   "source": [
    "### What country has the highest percentage of people that earn >50K and what is that percentage?"
   ]
  },
  {
   "cell_type": "code",
   "execution_count": 28,
   "id": "2774c0b3-dbd2-4b55-907c-e597fc613eac",
   "metadata": {},
   "outputs": [
    {
     "data": {
      "text/plain": [
       "native-country\n",
       "United-States         7171\n",
       "?                      146\n",
       "Philippines             61\n",
       "Germany                 44\n",
       "India                   40\n",
       "Canada                  39\n",
       "Mexico                  33\n",
       "England                 30\n",
       "Italy                   25\n",
       "Cuba                    25\n",
       "Japan                   24\n",
       "China                   20\n",
       "Taiwan                  20\n",
       "Iran                    18\n",
       "South                   16\n",
       "Poland                  12\n",
       "France                  12\n",
       "Puerto-Rico             12\n",
       "Jamaica                 10\n",
       "El-Salvador              9\n",
       "Greece                   8\n",
       "Cambodia                 7\n",
       "Yugoslavia               6\n",
       "Hong                     6\n",
       "Ireland                  5\n",
       "Vietnam                  5\n",
       "Ecuador                  4\n",
       "Haiti                    4\n",
       "Portugal                 4\n",
       "Scotland                 3\n",
       "Thailand                 3\n",
       "Hungary                  3\n",
       "Guatemala                3\n",
       "Laos                     2\n",
       "Dominican-Republic       2\n",
       "Peru                     2\n",
       "Trinadad&Tobago          2\n",
       "Columbia                 2\n",
       "Nicaragua                2\n",
       "Honduras                 1\n",
       "Name: salary, dtype: int64"
      ]
     },
     "execution_count": 28,
     "metadata": {},
     "output_type": "execute_result"
    }
   ],
   "source": [
    "# solution 01 || wrong answer\n",
    "df[top_salary].groupby('native-country')['salary'].count().sort_values(ascending=False)"
   ]
  },
  {
   "cell_type": "code",
   "execution_count": 30,
   "id": "5b01209c-acb1-4f55-ba6b-8e398b658f99",
   "metadata": {},
   "outputs": [],
   "source": [
    "# solution 02 || right answer\n",
    "earning_country = ((df[top_salary].groupby('native-country')['salary'].count() \\\n",
    "      / df['native-country'].value_counts()) * 100).sort_values(ascending=False)\n",
    "highest_earning_country_percentage = earning_country.iloc[0].round(1)"
   ]
  },
  {
   "cell_type": "code",
   "execution_count": null,
   "id": "d5175553-d726-4e4f-b65c-b7aa7818796f",
   "metadata": {},
   "outputs": [],
   "source": [
    "earning_country.index[0]"
   ]
  },
  {
   "cell_type": "code",
   "execution_count": null,
   "id": "1ff3e217-81df-44cc-b96b-6ae18d4a21c9",
   "metadata": {},
   "outputs": [],
   "source": [
    "highest_earning_country_percentage"
   ]
  },
  {
   "cell_type": "markdown",
   "id": "4483141e-0384-4754-8b4b-c96d3c88d707",
   "metadata": {},
   "source": [
    "### Identify the most popular occupation for those who earn >50K in India."
   ]
  },
  {
   "cell_type": "code",
   "execution_count": 31,
   "id": "27a382f0-4192-45ac-914f-32d071a27f52",
   "metadata": {},
   "outputs": [
    {
     "data": {
      "text/plain": [
       "'Prof-specialty'"
      ]
     },
     "execution_count": 31,
     "metadata": {},
     "output_type": "execute_result"
    }
   ],
   "source": [
    "# solution 01\n",
    "india = df['native-country'] == 'India'\n",
    "filtered = df[top_salary & india]\n",
    "filtered.groupby('occupation').count()['salary'].sort_values(ascending=False).index[0]"
   ]
  },
  {
   "cell_type": "code",
   "execution_count": null,
   "id": "e1d5f35a-a082-4422-a03b-3bbe3def957f",
   "metadata": {},
   "outputs": [],
   "source": [
    "# solution 02\n",
    "df[(df['native-country'] == 'India') & (df['salary'] == '>50K')]['occupation'].value_counts().index[0]"
   ]
  }
 ],
 "metadata": {
  "kernelspec": {
   "display_name": "Python 3 (ipykernel)",
   "language": "python",
   "name": "python3"
  },
  "language_info": {
   "codemirror_mode": {
    "name": "ipython",
    "version": 3
   },
   "file_extension": ".py",
   "mimetype": "text/x-python",
   "name": "python",
   "nbconvert_exporter": "python",
   "pygments_lexer": "ipython3",
   "version": "3.12.4"
  }
 },
 "nbformat": 4,
 "nbformat_minor": 5
}
